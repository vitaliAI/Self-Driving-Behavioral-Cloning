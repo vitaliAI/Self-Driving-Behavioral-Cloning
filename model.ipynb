{
 "cells": [
  {
   "cell_type": "code",
   "execution_count": 53,
   "metadata": {},
   "outputs": [],
   "source": [
    "import pandas as pd\n",
    "import pickle\n",
    "import numpy as np\n",
    "from sklearn.model_selection import train_test_split\n",
    "import math\n",
    "\n",
    "from keras.models import Sequential\n",
    "from keras.layers import Dense, Activation\n",
    "import cv2\n",
    "\n",
    "import json\n",
    "import random"
   ]
  },
  {
   "cell_type": "code",
   "execution_count": 55,
   "metadata": {},
   "outputs": [
    {
     "name": "stdout",
     "output_type": "stream",
     "text": [
      "center       object\n",
      "steering    float32\n",
      "dtype: object\n",
      "Training data size =  13505\n",
      "Training labels size =  13505\n"
     ]
    }
   ],
   "source": [
    "# read new images\n",
    "\n",
    "data = pd.read_csv('data/new_data/new_log.csv',\n",
    "                   dtype={'center': str,'steering': np.float32},\n",
    "                   skipinitialspace=1)\n",
    "print(data.dtypes)\n",
    "\n",
    "X_train = data['center']\n",
    "y_train = data['steering']\n",
    "\n",
    "print('Training data size = ', len(X_train))\n",
    "print('Training labels size = ',len(y_train))\n"
   ]
  },
  {
   "cell_type": "code",
   "execution_count": 56,
   "metadata": {},
   "outputs": [
    {
     "data": {
      "text/html": [
       "<div>\n",
       "<style>\n",
       "    .dataframe thead tr:only-child th {\n",
       "        text-align: right;\n",
       "    }\n",
       "\n",
       "    .dataframe thead th {\n",
       "        text-align: left;\n",
       "    }\n",
       "\n",
       "    .dataframe tbody tr th {\n",
       "        vertical-align: top;\n",
       "    }\n",
       "</style>\n",
       "<table border=\"1\" class=\"dataframe\">\n",
       "  <thead>\n",
       "    <tr style=\"text-align: right;\">\n",
       "      <th></th>\n",
       "      <th>center</th>\n",
       "      <th>steering</th>\n",
       "    </tr>\n",
       "  </thead>\n",
       "  <tbody>\n",
       "    <tr>\n",
       "      <th>0</th>\n",
       "      <td>IMG/image_0.jpg</td>\n",
       "      <td>0.217953</td>\n",
       "    </tr>\n",
       "    <tr>\n",
       "      <th>1</th>\n",
       "      <td>IMG/image_1.jpg</td>\n",
       "      <td>0.247953</td>\n",
       "    </tr>\n",
       "    <tr>\n",
       "      <th>2</th>\n",
       "      <td>IMG/image_2.jpg</td>\n",
       "      <td>0.457953</td>\n",
       "    </tr>\n",
       "    <tr>\n",
       "      <th>3</th>\n",
       "      <td>IMG/image_3.jpg</td>\n",
       "      <td>-0.517953</td>\n",
       "    </tr>\n",
       "    <tr>\n",
       "      <th>4</th>\n",
       "      <td>IMG/image_4.jpg</td>\n",
       "      <td>-0.487953</td>\n",
       "    </tr>\n",
       "  </tbody>\n",
       "</table>\n",
       "</div>"
      ],
      "text/plain": [
       "            center  steering\n",
       "0  IMG/image_0.jpg  0.217953\n",
       "1  IMG/image_1.jpg  0.247953\n",
       "2  IMG/image_2.jpg  0.457953\n",
       "3  IMG/image_3.jpg -0.517953\n",
       "4  IMG/image_4.jpg -0.487953"
      ]
     },
     "execution_count": 56,
     "metadata": {},
     "output_type": "execute_result"
    }
   ],
   "source": [
    "data.head()"
   ]
  },
  {
   "cell_type": "code",
   "execution_count": 57,
   "metadata": {},
   "outputs": [
    {
     "data": {
      "text/plain": [
       "0    IMG/image_0.jpg\n",
       "1    IMG/image_1.jpg\n",
       "2    IMG/image_2.jpg\n",
       "3    IMG/image_3.jpg\n",
       "4    IMG/image_4.jpg\n",
       "Name: center, dtype: object"
      ]
     },
     "execution_count": 57,
     "metadata": {},
     "output_type": "execute_result"
    }
   ],
   "source": [
    "X_train.head()"
   ]
  },
  {
   "cell_type": "code",
   "execution_count": 58,
   "metadata": {},
   "outputs": [
    {
     "data": {
      "image/png": "[encoded data removed]",
      "text/plain": [
       "<matplotlib.figure.Figure at 0x12fb887b8>"
      ]
     },
     "metadata": {},
     "output_type": "display_data"
    },
    {
     "name": "stdout",
     "output_type": "stream",
     "text": [
      "X_train: 13505\n",
      "y_train: 13505\n"
     ]
    }
   ],
   "source": [
    "# examine the data\n",
    "import matplotlib.pyplot as plt\n",
    "plt.hist(y_train,50)\n",
    "plt.show()\n",
    "data = list(X_train)\n",
    "labels = list(y_train)\n",
    "print('X_train:',len(X_train))\n",
    "print('y_train:',len(y_train))"
   ]
  },
  {
   "cell_type": "code",
   "execution_count": 59,
   "metadata": {},
   "outputs": [
    {
     "name": "stdout",
     "output_type": "stream",
     "text": [
      "Data splitted into train, validation anda test data\n",
      "Training data size =  9453\n",
      "Training labels size =  9453\n",
      "Validation data size =  3241\n",
      "Validation labels size =  3241\n",
      "Test data size =  811\n",
      "Test labels size =  811\n"
     ]
    }
   ],
   "source": [
    "from sklearn.model_selection import train_test_split\n",
    "\n",
    "# split data into train, validate and test data\n",
    "X_train, X_val, y_train, y_val = train_test_split(data, labels, test_size=0.3,random_state=42)\n",
    "X_val, X_test, y_val, y_test = train_test_split(X_val, y_val, test_size=0.2,random_state=42)\n",
    "#print(X_train.shape[0])\n",
    "print('Data splitted into train, validation anda test data')\n",
    "print('Training data size = ', len(X_train))\n",
    "print('Training labels size = ',len(y_train))\n",
    "print('Validation data size = ',len(X_val))\n",
    "print('Validation labels size = ',len(y_val))\n",
    "print('Test data size = ',len(X_test))\n",
    "print('Test labels size = ',len(y_test))"
   ]
  },
  {
   "cell_type": "code",
   "execution_count": 60,
   "metadata": {},
   "outputs": [
    {
     "data": {
      "image/png": "[encoded data removed]",
      "text/plain": [
       "<matplotlib.figure.Figure at 0x12fb88518>"
      ]
     },
     "metadata": {},
     "output_type": "display_data"
    },
    {
     "data": {
      "image/png": "[encoded data removed]",
      "text/plain": [
       "<matplotlib.figure.Figure at 0x12f53a940>"
      ]
     },
     "metadata": {},
     "output_type": "display_data"
    },
    {
     "data": {
      "image/png": "[encoded data removed]",
      "text/plain": [
       "<matplotlib.figure.Figure at 0x12e0a26a0>"
      ]
     },
     "metadata": {},
     "output_type": "display_data"
    }
   ],
   "source": [
    "plt.hist(y_train,150)\n",
    "plt.show()\n",
    "plt.hist(y_val,150)\n",
    "plt.show()\n",
    "plt.hist(y_test,150)\n",
    "plt.show()"
   ]
  },
  {
   "cell_type": "code",
   "execution_count": 61,
   "metadata": {},
   "outputs": [
    {
     "name": "stderr",
     "output_type": "stream",
     "text": [
      "/Users/vmueller/anaconda/lib/python3.6/site-packages/ipykernel_launcher.py:11: UserWarning: Update your `Conv2D` call to the Keras 2 API: `Conv2D(24, (5, 5), strides=(2, 2), kernel_regularizer=\"l2\", data_format=\"channels_last\")`\n",
      "  # This is added back by InteractiveShellApp.init_path()\n",
      "/Users/vmueller/anaconda/lib/python3.6/site-packages/ipykernel_launcher.py:13: UserWarning: Update your `Conv2D` call to the Keras 2 API: `Conv2D(36, (5, 5), strides=(2, 2), kernel_regularizer=\"l2\", data_format=\"channels_last\")`\n",
      "  del sys.path[0]\n",
      "/Users/vmueller/anaconda/lib/python3.6/site-packages/ipykernel_launcher.py:15: UserWarning: Update your `Conv2D` call to the Keras 2 API: `Conv2D(48, (5, 5), strides=(2, 2), kernel_regularizer=\"l2\", data_format=\"channels_last\")`\n",
      "  from ipykernel import kernelapp as app\n",
      "/Users/vmueller/anaconda/lib/python3.6/site-packages/ipykernel_launcher.py:17: UserWarning: Update your `Conv2D` call to the Keras 2 API: `Conv2D(64, (3, 3), strides=(1, 1), kernel_regularizer=\"l2\", data_format=\"channels_last\")`\n",
      "/Users/vmueller/anaconda/lib/python3.6/site-packages/ipykernel_launcher.py:19: UserWarning: Update your `Conv2D` call to the Keras 2 API: `Conv2D(64, (3, 3), strides=(1, 1), kernel_regularizer=\"l2\", data_format=\"channels_last\")`\n"
     ]
    },
    {
     "name": "stdout",
     "output_type": "stream",
     "text": [
      "_________________________________________________________________\n",
      "Layer (type)                 Output Shape              Param #   \n",
      "=================================================================\n",
      "lambda_15 (Lambda)           (None, 80, 300, 3)        0         \n",
      "_________________________________________________________________\n",
      "conv2d_54 (Conv2D)           (None, 38, 148, 24)       1824      \n",
      "_________________________________________________________________\n",
      "activation_71 (Activation)   (None, 38, 148, 24)       0         \n",
      "_________________________________________________________________\n",
      "conv2d_55 (Conv2D)           (None, 17, 72, 36)        21636     \n",
      "_________________________________________________________________\n",
      "activation_72 (Activation)   (None, 17, 72, 36)        0         \n",
      "_________________________________________________________________\n",
      "conv2d_56 (Conv2D)           (None, 7, 34, 48)         43248     \n",
      "_________________________________________________________________\n",
      "activation_73 (Activation)   (None, 7, 34, 48)         0         \n",
      "_________________________________________________________________\n",
      "conv2d_57 (Conv2D)           (None, 5, 32, 64)         27712     \n",
      "_________________________________________________________________\n",
      "activation_74 (Activation)   (None, 5, 32, 64)         0         \n",
      "_________________________________________________________________\n",
      "conv2d_58 (Conv2D)           (None, 3, 30, 64)         36928     \n",
      "_________________________________________________________________\n",
      "activation_75 (Activation)   (None, 3, 30, 64)         0         \n",
      "_________________________________________________________________\n",
      "flatten_9 (Flatten)          (None, 5760)              0         \n",
      "_________________________________________________________________\n",
      "fc1 (Dense)                  (None, 100)               576100    \n",
      "_________________________________________________________________\n",
      "activation_76 (Activation)   (None, 100)               0         \n",
      "_________________________________________________________________\n",
      "dropout_15 (Dropout)         (None, 100)               0         \n",
      "_________________________________________________________________\n",
      "fc2 (Dense)                  (None, 50)                5050      \n",
      "_________________________________________________________________\n",
      "activation_77 (Activation)   (None, 50)                0         \n",
      "_________________________________________________________________\n",
      "dropout_16 (Dropout)         (None, 50)                0         \n",
      "_________________________________________________________________\n",
      "fc3 (Dense)                  (None, 10)                510       \n",
      "_________________________________________________________________\n",
      "activation_78 (Activation)   (None, 10)                0         \n",
      "_________________________________________________________________\n",
      "output (Dense)               (None, 1)                 11        \n",
      "=================================================================\n",
      "Total params: 713,019\n",
      "Trainable params: 713,019\n",
      "Non-trainable params: 0\n",
      "_________________________________________________________________\n",
      "Model defined\n"
     ]
    }
   ],
   "source": [
    "from keras.models import Sequential\n",
    "from keras.layers import Conv2D, MaxPooling2D, Dropout, Dense, Flatten, Lambda, Cropping2D\n",
    "from keras.optimizers import Adam\n",
    "from keras.layers.normalization import BatchNormalization\n",
    "\n",
    "\n",
    "\n",
    "# define the model\n",
    "model = Sequential()\n",
    "model.add(Lambda(lambda x: x/255 - 0.5, input_shape=(80, 300, 3),output_shape=(80, 300, 3)))\n",
    "model.add(Conv2D(24, (5, 5),strides=(2, 2),kernel_regularizer='l2',dim_ordering='tf'))\n",
    "model.add(Activation('relu'))\n",
    "model.add(Conv2D(36, (5, 5),strides=(2, 2),kernel_regularizer='l2',dim_ordering='tf'))\n",
    "model.add(Activation('relu'))\n",
    "model.add(Conv2D(48, (5, 5),strides=(2, 2),kernel_regularizer='l2',dim_ordering='tf'))\n",
    "model.add(Activation('relu'))\n",
    "model.add(Conv2D(64, (3, 3),strides=(1, 1),kernel_regularizer='l2',dim_ordering='tf'))\n",
    "model.add(Activation('relu'))\n",
    "model.add(Conv2D(64, (3, 3),strides=(1, 1),kernel_regularizer='l2',dim_ordering='tf'))\n",
    "model.add(Activation('relu'))\n",
    "model.add(Flatten())\n",
    "model.add(Dense(100, name='fc1'))\n",
    "model.add(Activation('relu'))\n",
    "model.add(Dropout(0.1))\n",
    "model.add(Dense(50, name='fc2'))\n",
    "model.add(Activation('relu'))\n",
    "model.add(Dropout(0.1))\n",
    "model.add(Dense(10, name='fc3'))\n",
    "model.add(Activation('relu'))\n",
    "model.add(Dense(1,name='output'))\n",
    "\n",
    "# for a mean squared error regression problem\n",
    "model.compile(optimizer=Adam(lr=0.0001),loss='mean_squared_error')\n",
    "model.summary()\n",
    "print('Model defined')"
   ]
  },
  {
   "cell_type": "code",
   "execution_count": 62,
   "metadata": {
    "collapsed": true
   },
   "outputs": [],
   "source": [
    "from PIL import Image\n",
    "    \n",
    "def generator(X, Y):\n",
    "    while 1:\n",
    "        for (x, y) in zip(X, Y):\n",
    "            path, angle = (x, y)\n",
    "            angle = np.reshape(angle, [1])\n",
    "            image = Image.open('./data/new_data/' + path)\n",
    "            image_array = np.asarray(image)\n",
    "            transformed_image_array = image_array[None, :, :, :]\n",
    "            yield transformed_image_array, angle"
   ]
  },
  {
   "cell_type": "code",
   "execution_count": 63,
   "metadata": {},
   "outputs": [
    {
     "name": "stdout",
     "output_type": "stream",
     "text": [
      "IMG/image_6973.jpg\n"
     ]
    },
    {
     "data": {
      "image/png": "[encoded data removed]",
      "text/plain": [
       "<matplotlib.figure.Figure at 0x12f4f50b8>"
      ]
     },
     "metadata": {},
     "output_type": "display_data"
    }
   ],
   "source": [
    "# image example from dataset\n",
    "print(X_train[0])\n",
    "image = Image.open('./data/new_data/' + X_train[0])\n",
    "image_array = np.asarray(image)\n",
    "plt.imshow(image)\n",
    "plt.show()"
   ]
  },
  {
   "cell_type": "code",
   "execution_count": 64,
   "metadata": {},
   "outputs": [
    {
     "name": "stdout",
     "output_type": "stream",
     "text": [
      "\n"
     ]
    },
    {
     "name": "stderr",
     "output_type": "stream",
     "text": [
      "/Users/vmueller/anaconda/lib/python3.6/site-packages/ipykernel_launcher.py:18: UserWarning: The semantics of the Keras 2 argument `steps_per_epoch` is not the same as the Keras 1 argument `samples_per_epoch`. `steps_per_epoch` is the number of batches to draw from the generator at each epoch. Basically steps_per_epoch = samples_per_epoch/batch_size. Similarly `nb_val_samples`->`validation_steps` and `val_samples`->`steps` arguments have changed. Update your method calls accordingly.\n",
      "/Users/vmueller/anaconda/lib/python3.6/site-packages/ipykernel_launcher.py:18: UserWarning: Update your `fit_generator` call to the Keras 2 API: `fit_generator(<generator..., callbacks=[<keras.ca..., verbose=1, validation_data=<generator..., steps_per_epoch=100, epochs=30, validation_steps=100)`\n"
     ]
    },
    {
     "name": "stdout",
     "output_type": "stream",
     "text": [
      "Epoch 1/30\n",
      " 98/100 [============================>.] - ETA: 0s - loss: 1.7074Epoch 00000: val_loss improved from inf to 1.40763, saving model to weights-improvement-00-1.41.hdf5\n",
      "100/100 [==============================] - 5s - loss: 1.7013 - val_loss: 1.4076\n",
      "Epoch 2/30\n",
      " 99/100 [============================>.] - ETA: 0s - loss: 1.2263Epoch 00001: val_loss improved from 1.40763 to 1.02633, saving model to weights-improvement-01-1.03.hdf5\n",
      "100/100 [==============================] - 5s - loss: 1.2251 - val_loss: 1.0263\n",
      "Epoch 3/30\n",
      " 98/100 [============================>.] - ETA: 0s - loss: 0.8933Epoch 00002: val_loss improved from 1.02633 to 0.73609, saving model to weights-improvement-02-0.74.hdf5\n",
      "100/100 [==============================] - 4s - loss: 0.8898 - val_loss: 0.7361\n",
      "Epoch 4/30\n",
      " 98/100 [============================>.] - ETA: 0s - loss: 0.6430Epoch 00003: val_loss improved from 0.73609 to 0.55696, saving model to weights-improvement-03-0.56.hdf5\n",
      "100/100 [==============================] - 4s - loss: 0.6406 - val_loss: 0.5570\n",
      "Epoch 5/30\n",
      " 99/100 [============================>.] - ETA: 0s - loss: 0.5021Epoch 00004: val_loss improved from 0.55696 to 0.43461, saving model to weights-improvement-04-0.43.hdf5\n",
      "100/100 [==============================] - 4s - loss: 0.5021 - val_loss: 0.4346\n",
      "Epoch 6/30\n",
      " 99/100 [============================>.] - ETA: 0s - loss: 0.4016Epoch 00005: val_loss improved from 0.43461 to 0.34670, saving model to weights-improvement-05-0.35.hdf5\n",
      "100/100 [==============================] - 4s - loss: 0.4010 - val_loss: 0.3467\n",
      "Epoch 7/30\n",
      " 98/100 [============================>.] - ETA: 0s - loss: 0.3003Epoch 00006: val_loss improved from 0.34670 to 0.28162, saving model to weights-improvement-06-0.28.hdf5\n",
      "100/100 [==============================] - 4s - loss: 0.2993 - val_loss: 0.2816\n",
      "Epoch 8/30\n",
      " 98/100 [============================>.] - ETA: 0s - loss: 0.2674Epoch 00007: val_loss improved from 0.28162 to 0.23873, saving model to weights-improvement-07-0.24.hdf5\n",
      "100/100 [==============================] - 4s - loss: 0.2659 - val_loss: 0.2387\n",
      "Epoch 9/30\n",
      " 99/100 [============================>.] - ETA: 0s - loss: 0.2029Epoch 00008: val_loss improved from 0.23873 to 0.18563, saving model to weights-improvement-08-0.19.hdf5\n",
      "100/100 [==============================] - 3s - loss: 0.2027 - val_loss: 0.1856\n",
      "Epoch 10/30\n",
      " 99/100 [============================>.] - ETA: 0s - loss: 0.1758Epoch 00009: val_loss improved from 0.18563 to 0.15690, saving model to weights-improvement-09-0.16.hdf5\n",
      "100/100 [==============================] - 4s - loss: 0.1769 - val_loss: 0.1569\n",
      "Epoch 11/30\n",
      " 98/100 [============================>.] - ETA: 0s - loss: 0.1794Epoch 00010: val_loss did not improve\n",
      "100/100 [==============================] - 4s - loss: 0.1785 - val_loss: 0.1592\n",
      "Epoch 12/30\n",
      " 99/100 [============================>.] - ETA: 0s - loss: 0.1455Epoch 00011: val_loss improved from 0.15690 to 0.13097, saving model to weights-improvement-11-0.13.hdf5\n",
      "100/100 [==============================] - 4s - loss: 0.1451 - val_loss: 0.1310\n",
      "Epoch 13/30\n",
      " 98/100 [============================>.] - ETA: 0s - loss: 0.1297Epoch 00012: val_loss improved from 0.13097 to 0.12558, saving model to weights-improvement-12-0.13.hdf5\n",
      "100/100 [==============================] - 4s - loss: 0.1297 - val_loss: 0.1256\n",
      "Epoch 14/30\n",
      " 99/100 [============================>.] - ETA: 0s - loss: 0.1428Epoch 00013: val_loss improved from 0.12558 to 0.10561, saving model to weights-improvement-13-0.11.hdf5\n",
      "100/100 [==============================] - 4s - loss: 0.1423 - val_loss: 0.1056\n",
      "Epoch 15/30\n",
      " 99/100 [============================>.] - ETA: 0s - loss: 0.1027Epoch 00014: val_loss did not improve\n",
      "100/100 [==============================] - 4s - loss: 0.1026 - val_loss: 0.1083\n",
      "Epoch 16/30\n",
      " 99/100 [============================>.] - ETA: 0s - loss: 0.1110- ET - ETEpoch 00015: val_loss improved from 0.10561 to 0.10022, saving model to weights-improvement-15-0.10.hdf5\n",
      "100/100 [==============================] - 4s - loss: 0.1106 - val_loss: 0.1002\n",
      "Epoch 17/30\n",
      " 98/100 [============================>.] - ETA: 0s - loss: 0.0956Epoch 00016: val_loss improved from 0.10022 to 0.08757, saving model to weights-improvement-16-0.09.hdf5\n",
      "100/100 [==============================] - 4s - loss: 0.0960 - val_loss: 0.0876\n",
      "Epoch 18/30\n",
      " 99/100 [============================>.] - ETA: 0s - loss: 0.0825Epoch 00017: val_loss did not improve\n",
      "100/100 [==============================] - 3s - loss: 0.0830 - val_loss: 0.0883\n",
      "Epoch 19/30\n",
      " 99/100 [============================>.] - ETA: 0s - loss: 0.0903Epoch 00018: val_loss improved from 0.08757 to 0.06950, saving model to weights-improvement-18-0.07.hdf5\n",
      "100/100 [==============================] - 4s - loss: 0.0926 - val_loss: 0.0695\n",
      "Epoch 20/30\n",
      " 99/100 [============================>.] - ETA: 0s - loss: 0.0828Epoch 00019: val_loss did not improve\n",
      "100/100 [==============================] - 4s - loss: 0.0825 - val_loss: 0.0797\n",
      "Epoch 21/30\n",
      " 98/100 [============================>.] - ETA: 0s - loss: 0.0771Epoch 00020: val_loss did not improve\n",
      "100/100 [==============================] - 4s - loss: 0.0766 - val_loss: 0.0785\n",
      "Epoch 22/30\n",
      " 99/100 [============================>.] - ETA: 0s - loss: 0.0649Epoch 00021: val_loss improved from 0.06950 to 0.06453, saving model to weights-improvement-21-0.06.hdf5\n",
      "100/100 [==============================] - 3s - loss: 0.0658 - val_loss: 0.0645\n",
      "Epoch 23/30\n",
      " 98/100 [============================>.] - ETA: 0s - loss: 0.0588Epoch 00022: val_loss did not improve\n",
      "100/100 [==============================] - 4s - loss: 0.0587 - val_loss: 0.0692\n",
      "Epoch 24/30\n",
      " 99/100 [============================>.] - ETA: 0s - loss: 0.0840Epoch 00023: val_loss improved from 0.06453 to 0.05997, saving model to weights-improvement-23-0.06.hdf5\n",
      "100/100 [==============================] - 4s - loss: 0.0837 - val_loss: 0.0600\n",
      "Epoch 25/30\n",
      " 98/100 [============================>.] - ETA: 0s - loss: 0.0571Epoch 00024: val_loss improved from 0.05997 to 0.05629, saving model to weights-improvement-24-0.06.hdf5\n",
      "100/100 [==============================] - 4s - loss: 0.0568 - val_loss: 0.0563\n",
      "Epoch 26/30\n",
      " 99/100 [============================>.] - ETA: 0s - loss: 0.0559Epoch 00025: val_loss improved from 0.05629 to 0.04863, saving model to weights-improvement-25-0.05.hdf5\n",
      "100/100 [==============================] - 4s - loss: 0.0556 - val_loss: 0.0486\n",
      "Epoch 27/30\n",
      " 99/100 [============================>.] - ETA: 0s - loss: 0.0553Epoch 00026: val_loss did not improve\n",
      "100/100 [==============================] - 4s - loss: 0.0552 - val_loss: 0.0507\n",
      "Epoch 28/30\n",
      " 98/100 [============================>.] - ETA: 0s - loss: 0.0618Epoch 00027: val_loss did not improve\n",
      "100/100 [==============================] - 4s - loss: 0.0614 - val_loss: 0.0639\n",
      "Epoch 29/30\n",
      " 98/100 [============================>.] - ETA: 0s - loss: 0.0411Epoch 00028: val_loss did not improve\n",
      "100/100 [==============================] - 4s - loss: 0.0411 - val_loss: 0.0515\n",
      "Epoch 30/30\n",
      " 98/100 [============================>.] - ETA: 0s - loss: 0.0453Epoch 00029: val_loss improved from 0.04863 to 0.04565, saving model to weights-improvement-29-0.05.hdf5\n",
      "100/100 [==============================] - 4s - loss: 0.0453 - val_loss: 0.0457\n",
      "----------------- Model trained! -----------------\n"
     ]
    }
   ],
   "source": [
    "#train the model\n",
    "from keras.callbacks import ModelCheckpoint\n",
    "print('')\n",
    "iterations = 30\n",
    "train_batch_size = 100\n",
    "val_batch_size = 100\n",
    "\n",
    "# checkpoint\n",
    "filepath=\"weights-improvement-{epoch:02d}-{val_loss:.2f}.hdf5\"\n",
    "checkpoint = ModelCheckpoint(filepath, verbose=1, monitor = 'val_loss', save_best_only=True, mode='min')\n",
    "callbacks_list = [checkpoint]\n",
    "history = model.fit_generator(generator(X_train, y_train), \n",
    "                    samples_per_epoch= train_batch_size,\n",
    "                    nb_epoch=iterations,\n",
    "                    callbacks=callbacks_list,\n",
    "                    verbose=1,\n",
    "                    validation_data=generator(X_val, y_val),\n",
    "                    nb_val_samples=val_batch_size)\n",
    "\n",
    "print('----------------- Model trained! -----------------')"
   ]
  },
  {
   "cell_type": "code",
   "execution_count": 73,
   "metadata": {},
   "outputs": [],
   "source": [
    "model.save('model.h5')"
   ]
  }
 ],
 "metadata": {
  "kernelspec": {
   "display_name": "Python 3",
   "language": "python",
   "name": "python3"
  },
  "language_info": {
   "codemirror_mode": {
    "name": "ipython",
    "version": 3
   },
   "file_extension": ".py",
   "mimetype": "text/x-python",
   "name": "python",
   "nbconvert_exporter": "python",
   "pygments_lexer": "ipython3",
   "version": "3.6.2"
  }
 },
 "nbformat": 4,
 "nbformat_minor": 2
}
